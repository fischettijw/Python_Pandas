{
 "metadata": {
  "language_info": {
   "codemirror_mode": {
    "name": "ipython",
    "version": 3
   },
   "file_extension": ".py",
   "mimetype": "text/x-python",
   "name": "python",
   "nbconvert_exporter": "python",
   "pygments_lexer": "ipython3",
   "version": "3.9.4"
  },
  "orig_nbformat": 2,
  "kernelspec": {
   "name": "python394jvsc74a57bd00fa967826f0dff7bf43157b69b27c7e94f9cd8758e5f7e883b18ae704008f0e9",
   "display_name": "Python 3.9.4 64-bit"
  },
  "metadata": {
   "interpreter": {
    "hash": "0fa967826f0dff7bf43157b69b27c7e94f9cd8758e5f7e883b18ae704008f0e9"
   }
  }
 },
 "nbformat": 4,
 "nbformat_minor": 2,
 "cells": [
  {
   "source": [
    "# My First Notebook  ------  hashtag on this line means HEADING  not comment\n",
    "\n",
    "Notes and comments can be added\n",
    "\n",
    "## Subheadings with two hashtags\n",
    "\n",
    "\n",
    "This is called MARKDOWN\n",
    "\n",
    "* Bulleted Lists with asterisks\n",
    "* bolding with **TWO ASTERISKS**\n",
    "* https://www.youtube.com/watch?v=IqLY2MW6VqE  -  Jupyter Notebooks in VS Code\n",
    "\n",
    "[Markdown Cheatsheet 01](https://github.com/adam-p/markdown-here/wiki/Markdown-Cheatsheet)\n",
    "\n",
    "[Markdown Cheatsheet 02](https://medium.com/analytics-vidhya/the-ultimate-markdown-guide-for-jupyter-notebook-d5e5abf728fd)\n",
    "\n",
    "<h3>Many HTML tags work</h3>\n",
    "\n",
    "1. First item\n",
    "2. Second item\n",
    "3. Third item\n",
    "\n",
    "~~The world is flat.~~\n",
    "\n",
    "`ctrl-enter` - Evalutes current cell and keeps focus in the current cell\n",
    "\n",
    "`shift-enter` - Evalutes current cell and moves focus to the next cell\n",
    "\n"
   ],
   "cell_type": "markdown",
   "metadata": {}
  },
  {
   "cell_type": "code",
   "execution_count": 8,
   "metadata": {},
   "outputs": [
    {
     "output_type": "stream",
     "name": "stdout",
     "text": [
      "100\n"
     ]
    }
   ],
   "source": [
    "x = 45\n",
    "y = 55\n",
    "z = x + y\n",
    "print(z)"
   ]
  },
  {
   "cell_type": "code",
   "execution_count": 9,
   "metadata": {},
   "outputs": [
    {
     "output_type": "stream",
     "name": "stdout",
     "text": [
      "x = 45    y = 55   z = 100\n"
     ]
    }
   ],
   "source": [
    "print(f'x = {x}    y = {y}   z = {z}')"
   ]
  },
  {
   "source": [
    "## The last expression of a cell is printed by default"
   ],
   "cell_type": "markdown",
   "metadata": {}
  },
  {
   "cell_type": "code",
   "execution_count": 10,
   "metadata": {},
   "outputs": [
    {
     "output_type": "execute_result",
     "data": {
      "text/plain": [
       "55"
      ]
     },
     "metadata": {},
     "execution_count": 10
    }
   ],
   "source": [
    "y"
   ]
  },
  {
   "cell_type": "code",
   "execution_count": 11,
   "metadata": {},
   "outputs": [
    {
     "output_type": "execute_result",
     "data": {
      "text/plain": [
       "200"
      ]
     },
     "metadata": {},
     "execution_count": 11
    }
   ],
   "source": [
    "x+y+z"
   ]
  },
  {
   "cell_type": "code",
   "execution_count": null,
   "metadata": {},
   "outputs": [],
   "source": []
  }
 ]
}