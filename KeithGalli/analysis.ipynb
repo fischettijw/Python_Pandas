{
 "metadata": {
  "language_info": {
   "codemirror_mode": {
    "name": "ipython",
    "version": 3
   },
   "file_extension": ".py",
   "mimetype": "text/x-python",
   "name": "python",
   "nbconvert_exporter": "python",
   "pygments_lexer": "ipython3",
   "version": "3.9.4"
  },
  "orig_nbformat": 2,
  "kernelspec": {
   "name": "python3",
   "display_name": "Python 3.9.4 64-bit"
  },
  "metadata": {
   "interpreter": {
    "hash": "0fa967826f0dff7bf43157b69b27c7e94f9cd8758e5f7e883b18ae704008f0e9"
   }
  },
  "interpreter": {
   "hash": "0fa967826f0dff7bf43157b69b27c7e94f9cd8758e5f7e883b18ae704008f0e9"
  }
 },
 "nbformat": 4,
 "nbformat_minor": 2,
 "cells": [
  {
   "source": [
    "# Learning to work with PANDAS, PYPLOT and JUPYTER Notebooks\n",
    "\n",
    "[PANDAS Documentation](https://pandas.pydata.org/docs/)\n",
    "\n",
    "[YouTube Video Lesson - beginning](https://youtu.be/vmEHCJofslg?t=0)"
   ],
   "cell_type": "markdown",
   "metadata": {}
  },
  {
   "cell_type": "code",
   "execution_count": 2,
   "metadata": {},
   "outputs": [],
   "source": [
    "# %%capture\n",
    "import matplotlib.pyplot as plt\n",
    "import random as rnd\n",
    "import pandas as pd"
   ]
  },
  {
   "cell_type": "code",
   "execution_count": 3,
   "metadata": {},
   "outputs": [],
   "source": [
    "%%capture\n",
    "path = f\"{os.path.dirname(os.path.realpath('analysis.ipynb'))}\\\\\"\n",
    "file_name = f'pokemon_data.csv'\n",
    "df = pd.read_csv(f'{path}{file_name}')"
   ]
  },
  {
   "cell_type": "code",
   "execution_count": 5,
   "metadata": {},
   "outputs": [
    {
     "output_type": "stream",
     "name": "stdout",
     "text": [
      "   #                   Name Type 1  Type 2  HP  Attack  Defense  Sp. Atk  \\\n0  1              Bulbasaur  Grass  Poison  45      49       49       65   \n1  2                Ivysaur  Grass  Poison  60      62       63       80   \n2  3               Venusaur  Grass  Poison  80      82       83      100   \n3  3  VenusaurMega Venusaur  Grass  Poison  80     100      123      122   \n4  4             Charmander   Fire     NaN  39      52       43       60   \n5  5             Charmeleon   Fire     NaN  58      64       58       80   \n\n   Sp. Def  Speed  Generation  Legendary  \n0       65     45           1      False  \n1       80     60           1      False  \n2      100     80           1      False  \n3      120     80           1      False  \n4       50     65           1      False  \n5       65     80           1      False   \n\n       #                 Name   Type 1  Type 2   HP  Attack  Defense  Sp. Atk  \\\n794  718     Zygarde50% Forme   Dragon  Ground  108     100      121       81   \n795  719              Diancie     Rock   Fairy   50     100      150      100   \n796  719  DiancieMega Diancie     Rock   Fairy   50     160      110      160   \n797  720  HoopaHoopa Confined  Psychic   Ghost   80     110       60      150   \n798  720   HoopaHoopa Unbound  Psychic    Dark   80     160       60      170   \n799  721            Volcanion     Fire   Water   80     110      120      130   \n\n     Sp. Def  Speed  Generation  Legendary  \n794       95     95           6       True  \n795      150     50           6       True  \n796      110    110           6       True  \n797      130     70           6       True  \n798      130     80           6       True  \n799       90     70           6       True   \n\n"
     ]
    }
   ],
   "source": [
    "# %%capture\n",
    "print(df.head(6), '\\n')\n",
    "print(df.tail(6), '\\n')"
   ]
  },
  {
   "cell_type": "code",
   "execution_count": 30,
   "metadata": {},
   "outputs": [],
   "source": [
    "%%capture\n",
    "print(df,'\\n')\n"
   ]
  },
  {
   "cell_type": "code",
   "execution_count": 31,
   "metadata": {},
   "outputs": [],
   "source": [
    "%%capture\n",
    "print(df.columns, '\\n')"
   ]
  },
  {
   "cell_type": "code",
   "execution_count": 32,
   "metadata": {},
   "outputs": [],
   "source": [
    "%%capture\n",
    "print(df['Name'][2:7], '\\n')"
   ]
  },
  {
   "cell_type": "code",
   "execution_count": 33,
   "metadata": {},
   "outputs": [],
   "source": [
    "%%capture\n",
    "print(df[['HP','Attack']])"
   ]
  },
  {
   "cell_type": "code",
   "execution_count": 34,
   "metadata": {},
   "outputs": [],
   "source": [
    "%%capture\n",
    "plt.plot(df['HP'], label = \"HP\", linewidth=1)\n",
    "plt.plot(df['Attack'], label = \"Attack\", linewidth=1)\n",
    "plt.plot(df['Defense'], label = \"Defense\", linewidth=1)\n",
    "plt.plot(df['Sp. Atk'], label = \"Sp. Atk\", linewidth=1)\n",
    "plt.legend()\n",
    "plt.show()\n"
   ]
  },
  {
   "cell_type": "code",
   "execution_count": 35,
   "metadata": {},
   "outputs": [],
   "source": [
    "%%capture\n",
    "f = plt.figure()\n",
    "f.set_figwidth(18)\n",
    "f.set_figheight(9)\n",
    "plt.plot(df['HP'], label = \"HP\", linewidth=1)\n",
    "plt.plot(df['Attack'], label = \"Attack\", linewidth=1)\n",
    "plt.plot(df['Defense'], label = \"Defense\", linewidth=1)\n",
    "plt.plot(df['Sp. Atk'], label = \"Sp. Atk\", linewidth=1)\n",
    "plt.legend()\n",
    "plt.show()"
   ]
  },
  {
   "cell_type": "code",
   "execution_count": 36,
   "metadata": {},
   "outputs": [],
   "source": [
    "%%capture\n",
    "print(df[['#', 'Name', 'Type 2']][0:7], '\\n')\n",
    "\n"
   ]
  },
  {
   "cell_type": "code",
   "execution_count": 37,
   "metadata": {},
   "outputs": [],
   "source": [
    "%%capture\n",
    "print(df.iloc[2], '\\n')"
   ]
  },
  {
   "cell_type": "code",
   "execution_count": 38,
   "metadata": {},
   "outputs": [],
   "source": [
    "%%capture\n",
    "print(df.iloc[2:6], '\\n')"
   ]
  },
  {
   "cell_type": "code",
   "execution_count": 39,
   "metadata": {},
   "outputs": [],
   "source": [
    "%%capture\n",
    "print(df.iloc[6, 3], '\\n')"
   ]
  },
  {
   "cell_type": "code",
   "execution_count": 40,
   "metadata": {},
   "outputs": [],
   "source": [
    "%%capture\n",
    "for index, row in df.iterrows():\n",
    "    print(index, row['Name'], '\\n')"
   ]
  },
  {
   "cell_type": "code",
   "execution_count": 41,
   "metadata": {},
   "outputs": [],
   "source": [
    "%%capture\n",
    "for index, row in df.head(7).iterrows():\n",
    "    print(index, row['Name'], '\\n')"
   ]
  },
  {
   "cell_type": "code",
   "execution_count": 42,
   "metadata": {},
   "outputs": [],
   "source": [
    "%%capture\n",
    "print(df.loc[df['Type 1'] == 'Fire'])"
   ]
  },
  {
   "cell_type": "code",
   "execution_count": 43,
   "metadata": {},
   "outputs": [],
   "source": [
    "%%capture\n",
    "print(df.describe(), '\\n')"
   ]
  },
  {
   "cell_type": "code",
   "execution_count": 44,
   "metadata": {},
   "outputs": [],
   "source": [
    "%%capture\n",
    "print(df.sort_values('Name'), '\\n')\n",
    "print(df.sort_values(['Type 1', 'HP'], ascending=[1, 0]), '\\n')"
   ]
  }
 ]
}